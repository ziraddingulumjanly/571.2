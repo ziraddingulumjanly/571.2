{
 "cells": [
  {
   "cell_type": "markdown",
   "metadata": {},
   "source": [
    "**PROBLEM 2**"
   ]
  },
  {
   "cell_type": "markdown",
   "metadata": {},
   "source": [
    "Temperature Range Calculation Based on Altitude\n",
    "This problem involves calculating the expected temperature range for a specific area given an altitude. The temperature decreases with altitude, and the formula accounts for this by subtracting a product of a coefficient and altitude (converted to kilometers) from the base temperature. The uncertainty in temperature measurements is used to establish a lower and upper bound, providing a range for the expected temperature."
   ]
  },
  {
   "cell_type": "code",
   "execution_count": 3,
   "metadata": {},
   "outputs": [
    {
     "name": "stdout",
     "output_type": "stream",
     "text": [
      "The expected range of temperatures in AREA  is from 71.0°F to 76.0°F.\n"
     ]
    }
   ],
   "source": [
    "# loading the given values\n",
    "altitude_m = 1500  # altitude in meters\n",
    "altitude_km = altitude_m / 1000  # m to km unit convertion\n",
    "temp = 90  # temperature in F\n",
    "coefficient = 11  # Coefficient for altitude\n",
    "temp_uncertainty = 2.5  # temperature uncertainty\n",
    "\n",
    "# calculation\n",
    "temperature = temp - coefficient * altitude_km\n",
    "lb = temperature - temp_uncertainty # lower limit of temperature\n",
    "ub = temperature + temp_uncertainty # upper limit of temperature\n",
    "\n",
    "# display of results\n",
    "print( \n",
    "    f\"The expected range of temperatures in AREA is from \"\n",
    "    f\"{lb:.1f}°F to {ub:.1f}°F.\")"
   ]
  },
  {
   "cell_type": "markdown",
   "metadata": {},
   "source": [
    "**PROBLEM 3**"
   ]
  },
  {
   "cell_type": "markdown",
   "metadata": {},
   "source": [
    "In this problem, entropy, a measure of uncertainty or randomness, is calculated for a given set of probabilities. The formula used is the sum of the negative product of each probability and its logarithm base 2. The maximum possible entropy for a distribution of this size is also computed to understand the percentage of entropy relative to its maximum. This analysis helps quantify how dispersed or concentrated the probabilities are."
   ]
  },
  {
   "cell_type": "code",
   "execution_count": 1,
   "metadata": {},
   "outputs": [
    {
     "name": "stdout",
     "output_type": "stream",
     "text": [
      " entropy: 2.7973147878767546\n",
      " maximum entropy is:  3.584962500721156\n",
      " the percentage of maximum entropy is:  78.02912268438074\n"
     ]
    }
   ],
   "source": [
    "import numpy as np\n",
    "# probabilities in the problem \n",
    "p = np.array([0.32, 0.28, 0.05, 0.10, 0.05, \n",
    "              0.02, 0.04, 0.04, 0.05, 0.02, 0.02, 0.01])\n",
    "\n",
    "entropy = -np.sum(p * np.log2(p)) # entropy\n",
    "\n",
    "n = len(p) # maximum entropy : log2N and N is 12\n",
    "max_entropy = np.log2(n)\n",
    "\n",
    "# percentage of the maximum entropy\n",
    "percentage = (entropy / max_entropy) * 100\n",
    "\n",
    "# display of results\n",
    "print( f\" entropy: {entropy}\")\n",
    "print( f\" maximum entropy is:  {max_entropy}\")\n",
    "print( f\" the percentage of maximum entropy is:  {percentage}\")"
   ]
  },
  {
   "cell_type": "markdown",
   "metadata": {},
   "source": [
    "**PROBLEM 4**"
   ]
  },
  {
   "cell_type": "markdown",
   "metadata": {},
   "source": [
    "This problem deals with calculating the steady-state probabilities for a 4-state Markov process using a transition matrix. Starting with an initial state vector, the code iteratively multiplies the vector by the transition matrix until convergence is achieved, meaning the state vector stabilizes. This steady-state vector represents the long-term probabilities of being in each of the four states of the Markov process."
   ]
  },
  {
   "cell_type": "code",
   "execution_count": 3,
   "metadata": {},
   "outputs": [
    {
     "name": "stdout",
     "output_type": "stream",
     "text": [
      "Steady-state probabilities for the 4-state Markov process after given iterations are as follows:\n",
      "State A: 0.3330\n",
      "State B: 0.2067\n",
      "State C: 0.2239\n",
      "State D: 0.2364\n"
     ]
    }
   ],
   "source": [
    "# Question: Calculate the steady-state probabilities for a 4-state Markov \n",
    "# process using a given transition matrix and verify the results against provided estimates.\n",
    "\n",
    "import numpy as np\n",
    "\n",
    "# Define the transition matrix P\n",
    "P = np.array([\n",
    "    [0.33, 0.25, 0.22, 0.20],\n",
    "    [0.33, 0.12, 0.23, 0.32],\n",
    "    [0.28, 0.24, 0.26, 0.22],\n",
    "    [0.39, 0.19, 0.19, 0.23]\n",
    "])\n",
    "\n",
    "# Initialize the state vector (initial guess of steady-state probabilities)\n",
    "state_vector = np.array([0.25, 0.25, 0.25, 0.25])\n",
    "\n",
    "# Define the number of iterations for convergence\n",
    "iterations = 10000000\n",
    "\n",
    "# Iteratively multiply the state vector by the transition matrix to find steady state\n",
    "for _ in range(iterations):\n",
    "    state_vector = np.dot(state_vector, P)\n",
    "\n",
    "# Normalize the state vector to ensure it sums to 1\n",
    "state_vector /= state_vector.sum()\n",
    "\n",
    "# Print the detailed results\n",
    "print(\"Steady-state probabilities for the 4-state Markov process after given iterations are as follows:\")\n",
    "print(f\"State A: {state_vector[0]:.4f}\")\n",
    "print(f\"State B: {state_vector[1]:.4f}\")\n",
    "print(f\"State C: {state_vector[2]:.4f}\")\n",
    "print(f\"State D: {state_vector[3]:.4f}\")\n",
    "\n"
   ]
  },
  {
   "cell_type": "markdown",
   "metadata": {},
   "source": [
    "**PROBLEM 5**"
   ]
  },
  {
   "cell_type": "markdown",
   "metadata": {},
   "source": [
    "This problem applies Bayesian probability to understand the relationships between cirrhosis and alcoholism. Given the probabilities of having cirrhosis, alcoholism, and alcoholism given cirrhosis, the code calculates the probability of having cirrhosis given alcoholism. It also computes the probability of cirrhosis among non-alcoholics and determines a risk factor comparing alcoholics to non-alcoholics. This analysis helps in understanding the increased risk alcoholics face in developing cirrhosis compared to non-alcoholics."
   ]
  },
  {
   "cell_type": "code",
   "execution_count": 2,
   "metadata": {},
   "outputs": [
    {
     "name": "stdout",
     "output_type": "stream",
     "text": [
      "Percentage of alcoholics who have cirrhosis: 21.43%\n",
      "Percentage of non-alcoholics who have cirrhosis: 1.90%\n",
      "Cirrhosis risk factor for alcoholics compared to non-alcoholics: 11.29\n"
     ]
    }
   ],
   "source": [
    "# Re-defining the code after the execution environment reset\n",
    "\n",
    "# Given data\n",
    "prob_cirrhosis = 0.06  # Probability of having cirrhosis\n",
    "prob_alcoholism = 0.21  # Probability of having alcoholism\n",
    "prob_alcoholism_given_cirrhosis = 0.75  # Probability of having alcoholism given cirrhosis\n",
    "\n",
    "# 1. Calculate the probability of having cirrhosis given alcoholism (P(C | A))\n",
    "prob_cirrhosis_given_alcoholism = (prob_alcoholism_given_cirrhosis * prob_cirrhosis) / prob_alcoholism\n",
    "\n",
    "# 2. Calculate the probability of having cirrhosis for non-alcoholics (P(C | not A))\n",
    "prob_not_alcoholism = 1 - prob_alcoholism\n",
    "prob_cirrhosis_given_non_alcoholic = (prob_cirrhosis - (prob_cirrhosis_given_alcoholism * prob_alcoholism)) / prob_not_alcoholism\n",
    "\n",
    "# 3. Calculate the cirrhosis risk factor for alcoholics compared to non-alcoholics\n",
    "risk_factor = prob_cirrhosis_given_alcoholism / prob_cirrhosis_given_non_alcoholic\n",
    "\n",
    "# Convert to percentages for better readability\n",
    "cirrhosis_given_alcoholism_percent = prob_cirrhosis_given_alcoholism * 100\n",
    "cirrhosis_given_non_alcoholic_percent = prob_cirrhosis_given_non_alcoholic * 100\n",
    "\n",
    "# Print the results with descriptions\n",
    "print(f\"Percentage of alcoholics who have cirrhosis: {cirrhosis_given_alcoholism_percent:.2f}%\")\n",
    "print(f\"Percentage of non-alcoholics who have cirrhosis: {cirrhosis_given_non_alcoholic_percent:.2f}%\")\n",
    "print(f\"Cirrhosis risk factor for alcoholics compared to non-alcoholics: {risk_factor:.2f}\")\n"
   ]
  }
 ],
 "metadata": {
  "kernelspec": {
   "display_name": "Python 3",
   "language": "python",
   "name": "python3"
  },
  "language_info": {
   "codemirror_mode": {
    "name": "ipython",
    "version": 3
   },
   "file_extension": ".py",
   "mimetype": "text/x-python",
   "name": "python",
   "nbconvert_exporter": "python",
   "pygments_lexer": "ipython3",
   "version": "3.11.4"
  }
 },
 "nbformat": 4,
 "nbformat_minor": 2
}
